{
 "cells": [
  {
   "cell_type": "code",
   "execution_count": 1,
   "metadata": {
    "executionInfo": {
     "elapsed": 67,
     "status": "ok",
     "timestamp": 1753864239244,
     "user": {
      "displayName": "Kamran Shaikh",
      "userId": "14068326078283844155"
     },
     "user_tz": -330
    },
    "id": "O8VctM1oOIo5"
   },
   "outputs": [],
   "source": [
    "def predict_future_prices(start_price, days,\n",
    "                          model_path=r'C:\\Users\\ADMIN\\Documents\\AI_Crypto\\BTC_Prediction_Training\\Trained_Model\\btc_lstm_model_v2.h5',\n",
    "                          scaler_path=r'C:\\Users\\ADMIN\\Documents\\AI_Crypto\\BTC_Prediction_Training\\Trained_Model\\btc_scaler_v2.save'):\n",
    "    import numpy as np\n",
    "    from tensorflow.keras.models import load_model\n",
    "    import joblib\n",
    "\n",
    "    # Load model without compiling\n",
    "    model = load_model(model_path, compile=False)\n",
    "    scaler = joblib.load(scaler_path)\n",
    "\n",
    "    current_price = np.array([[start_price]])  # 2D input\n",
    "\n",
    "    print(f\"\\n📈 Predicting next {days} days of BTC opening prices...\\n\")\n",
    "    for i in range(days):\n",
    "        scaled_input = scaler.transform(current_price)     # Normalize\n",
    "        model_input = scaled_input.reshape(1, 1, 1)         # Reshape to 3D for LSTM\n",
    "        pred_scaled = model.predict(model_input, verbose=0)\n",
    "        pred_price = scaler.inverse_transform(pred_scaled) # Convert back to actual price\n",
    "        print(f\"Day {i+1}: {pred_price[0][0]:.2f} USD\")\n",
    "        current_price = pred_price                         # Use prediction as next input\n"
   ]
  },
  {
   "cell_type": "code",
   "execution_count": null,
   "metadata": {
    "executionInfo": {
     "elapsed": 7,
     "status": "ok",
     "timestamp": 1753864239246,
     "user": {
      "displayName": "Kamran Shaikh",
      "userId": "14068326078283844155"
     },
     "user_tz": -330
    },
    "id": "7Y9HD88fdBMC"
   },
   "outputs": [],
   "source": []
  },
  {
   "cell_type": "code",
   "execution_count": 2,
   "metadata": {
    "colab": {
     "base_uri": "https://localhost:8080/"
    },
    "executionInfo": {
     "elapsed": 631,
     "status": "ok",
     "timestamp": 1753864261083,
     "user": {
      "displayName": "Kamran Shaikh",
      "userId": "14068326078283844155"
     },
     "user_tz": -330
    },
    "id": "n0k5I4RdcB1Q",
    "outputId": "84e0c3a6-8612-4396-f440-5ac0650ac5a0"
   },
   "outputs": [
    {
     "name": "stdout",
     "output_type": "stream",
     "text": [
      "\n",
      "📈 Predicting next 5 days of BTC opening prices...\n",
      "\n",
      "Day 1: 98166.04 USD\n",
      "Day 2: 97368.80 USD\n",
      "Day 3: 96870.22 USD\n",
      "Day 4: 96555.88 USD\n",
      "Day 5: 96356.70 USD\n"
     ]
    }
   ],
   "source": [
    "# Example: Predict next 5 days\n",
    "predict_future_prices(start_price=99457.52, days=5)"
   ]
  },
  {
   "cell_type": "code",
   "execution_count": 2,
   "metadata": {
    "executionInfo": {
     "elapsed": 11,
     "status": "ok",
     "timestamp": 1753864247188,
     "user": {
      "displayName": "Kamran Shaikh",
      "userId": "14068326078283844155"
     },
     "user_tz": -330
    },
    "id": "CF3P0PdFcFXn"
   },
   "outputs": [],
   "source": []
  }
 ],
 "metadata": {
  "colab": {
   "authorship_tag": "ABX9TyOb9g/2ZmdIDk9FVyyhy9fo",
   "mount_file_id": "154PV6MzmqjQrwDu5CR4TVgBZyghZ5hK9",
   "provenance": []
  },
  "kernelspec": {
   "display_name": "Python 3 (ipykernel)",
   "language": "python",
   "name": "python3"
  },
  "language_info": {
   "codemirror_mode": {
    "name": "ipython",
    "version": 3
   },
   "file_extension": ".py",
   "mimetype": "text/x-python",
   "name": "python",
   "nbconvert_exporter": "python",
   "pygments_lexer": "ipython3",
   "version": "3.12.9"
  }
 },
 "nbformat": 4,
 "nbformat_minor": 4
}
