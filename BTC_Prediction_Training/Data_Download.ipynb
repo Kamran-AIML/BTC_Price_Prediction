{
 "cells": [
  {
   "cell_type": "code",
   "execution_count": 1,
   "id": "21c291df-acad-47ac-9034-8aae1bf1267b",
   "metadata": {},
   "outputs": [],
   "source": [
    "# pip install yfinance"
   ]
  },
  {
   "cell_type": "code",
   "execution_count": 9,
   "id": "9fcefd6c-7afd-4228-89c6-951d98cb9dcf",
   "metadata": {},
   "outputs": [],
   "source": [
    "import yfinance as yf"
   ]
  },
  {
   "cell_type": "code",
   "execution_count": 18,
   "id": "a69d4bf3-455f-41f1-85ef-d8c9040006ed",
   "metadata": {},
   "outputs": [
    {
     "name": "stderr",
     "output_type": "stream",
     "text": [
      "C:\\Users\\ADMIN\\AppData\\Local\\Temp\\ipykernel_13072\\1724856702.py:2: FutureWarning: YF.download() has changed argument auto_adjust default to True\n",
      "  df = yf.download('BTC-USD', interval='1h', period='90d')\n",
      "[*********************100%***********************]  1 of 1 completed\n"
     ]
    },
    {
     "data": {
      "text/html": [
       "<div>\n",
       "<style scoped>\n",
       "    .dataframe tbody tr th:only-of-type {\n",
       "        vertical-align: middle;\n",
       "    }\n",
       "\n",
       "    .dataframe tbody tr th {\n",
       "        vertical-align: top;\n",
       "    }\n",
       "\n",
       "    .dataframe thead tr th {\n",
       "        text-align: left;\n",
       "    }\n",
       "\n",
       "    .dataframe thead tr:last-of-type th {\n",
       "        text-align: right;\n",
       "    }\n",
       "</style>\n",
       "<table border=\"1\" class=\"dataframe\">\n",
       "  <thead>\n",
       "    <tr>\n",
       "      <th>Price</th>\n",
       "      <th>Close</th>\n",
       "      <th>High</th>\n",
       "      <th>Low</th>\n",
       "      <th>Open</th>\n",
       "      <th>Volume</th>\n",
       "    </tr>\n",
       "    <tr>\n",
       "      <th>Ticker</th>\n",
       "      <th>BTC-USD</th>\n",
       "      <th>BTC-USD</th>\n",
       "      <th>BTC-USD</th>\n",
       "      <th>BTC-USD</th>\n",
       "      <th>BTC-USD</th>\n",
       "    </tr>\n",
       "    <tr>\n",
       "      <th>Datetime</th>\n",
       "      <th></th>\n",
       "      <th></th>\n",
       "      <th></th>\n",
       "      <th></th>\n",
       "      <th></th>\n",
       "    </tr>\n",
       "  </thead>\n",
       "  <tbody>\n",
       "    <tr>\n",
       "      <th>2025-04-23 00:00:00+00:00</th>\n",
       "      <td>92886.906250</td>\n",
       "      <td>93819.929688</td>\n",
       "      <td>92863.218750</td>\n",
       "      <td>93466.117188</td>\n",
       "      <td>0</td>\n",
       "    </tr>\n",
       "    <tr>\n",
       "      <th>2025-04-23 01:00:00+00:00</th>\n",
       "      <td>92651.679688</td>\n",
       "      <td>93449.265625</td>\n",
       "      <td>92651.679688</td>\n",
       "      <td>92905.859375</td>\n",
       "      <td>0</td>\n",
       "    </tr>\n",
       "    <tr>\n",
       "      <th>2025-04-23 02:00:00+00:00</th>\n",
       "      <td>92897.210938</td>\n",
       "      <td>93159.484375</td>\n",
       "      <td>92671.671875</td>\n",
       "      <td>92678.523438</td>\n",
       "      <td>1532350464</td>\n",
       "    </tr>\n",
       "    <tr>\n",
       "      <th>2025-04-23 03:00:00+00:00</th>\n",
       "      <td>93178.554688</td>\n",
       "      <td>93178.554688</td>\n",
       "      <td>92729.046875</td>\n",
       "      <td>92895.789062</td>\n",
       "      <td>0</td>\n",
       "    </tr>\n",
       "    <tr>\n",
       "      <th>2025-04-23 04:00:00+00:00</th>\n",
       "      <td>93665.398438</td>\n",
       "      <td>93665.398438</td>\n",
       "      <td>93057.828125</td>\n",
       "      <td>93181.492188</td>\n",
       "      <td>0</td>\n",
       "    </tr>\n",
       "  </tbody>\n",
       "</table>\n",
       "</div>"
      ],
      "text/plain": [
       "Price                             Close          High           Low  \\\n",
       "Ticker                          BTC-USD       BTC-USD       BTC-USD   \n",
       "Datetime                                                              \n",
       "2025-04-23 00:00:00+00:00  92886.906250  93819.929688  92863.218750   \n",
       "2025-04-23 01:00:00+00:00  92651.679688  93449.265625  92651.679688   \n",
       "2025-04-23 02:00:00+00:00  92897.210938  93159.484375  92671.671875   \n",
       "2025-04-23 03:00:00+00:00  93178.554688  93178.554688  92729.046875   \n",
       "2025-04-23 04:00:00+00:00  93665.398438  93665.398438  93057.828125   \n",
       "\n",
       "Price                              Open      Volume  \n",
       "Ticker                          BTC-USD     BTC-USD  \n",
       "Datetime                                             \n",
       "2025-04-23 00:00:00+00:00  93466.117188           0  \n",
       "2025-04-23 01:00:00+00:00  92905.859375           0  \n",
       "2025-04-23 02:00:00+00:00  92678.523438  1532350464  \n",
       "2025-04-23 03:00:00+00:00  92895.789062           0  \n",
       "2025-04-23 04:00:00+00:00  93181.492188           0  "
      ]
     },
     "execution_count": 18,
     "metadata": {},
     "output_type": "execute_result"
    }
   ],
   "source": [
    "# Example: Get 90 days of hourly BTC-USD data\n",
    "df = yf.download('BTC-USD', interval='1h', period='90d')\n",
    "\n",
    "df.head()"
   ]
  },
  {
   "cell_type": "code",
   "execution_count": 19,
   "id": "c2a5276f-20ea-480c-ad83-17153b163a2a",
   "metadata": {},
   "outputs": [
    {
     "data": {
      "text/plain": [
       "(2149, 5)"
      ]
     },
     "execution_count": 19,
     "metadata": {},
     "output_type": "execute_result"
    }
   ],
   "source": [
    "df.shape"
   ]
  },
  {
   "cell_type": "code",
   "execution_count": 20,
   "id": "8ad76afc-edc7-4b0f-8887-f4deec68fefa",
   "metadata": {},
   "outputs": [
    {
     "data": {
      "text/html": [
       "<div>\n",
       "<style scoped>\n",
       "    .dataframe tbody tr th:only-of-type {\n",
       "        vertical-align: middle;\n",
       "    }\n",
       "\n",
       "    .dataframe tbody tr th {\n",
       "        vertical-align: top;\n",
       "    }\n",
       "\n",
       "    .dataframe thead tr th {\n",
       "        text-align: left;\n",
       "    }\n",
       "\n",
       "    .dataframe thead tr:last-of-type th {\n",
       "        text-align: right;\n",
       "    }\n",
       "</style>\n",
       "<table border=\"1\" class=\"dataframe\">\n",
       "  <thead>\n",
       "    <tr>\n",
       "      <th>Price</th>\n",
       "      <th>Close</th>\n",
       "      <th>High</th>\n",
       "      <th>Low</th>\n",
       "      <th>Open</th>\n",
       "      <th>Volume</th>\n",
       "    </tr>\n",
       "    <tr>\n",
       "      <th>Ticker</th>\n",
       "      <th>BTC-USD</th>\n",
       "      <th>BTC-USD</th>\n",
       "      <th>BTC-USD</th>\n",
       "      <th>BTC-USD</th>\n",
       "      <th>BTC-USD</th>\n",
       "    </tr>\n",
       "    <tr>\n",
       "      <th>Datetime</th>\n",
       "      <th></th>\n",
       "      <th></th>\n",
       "      <th></th>\n",
       "      <th></th>\n",
       "      <th></th>\n",
       "    </tr>\n",
       "  </thead>\n",
       "  <tbody>\n",
       "    <tr>\n",
       "      <th>2025-07-21 08:00:00+00:00</th>\n",
       "      <td>119021.601562</td>\n",
       "      <td>119507.898438</td>\n",
       "      <td>118929.921875</td>\n",
       "      <td>119362.093750</td>\n",
       "      <td>8545181696</td>\n",
       "    </tr>\n",
       "    <tr>\n",
       "      <th>2025-07-21 09:00:00+00:00</th>\n",
       "      <td>118730.804688</td>\n",
       "      <td>119109.867188</td>\n",
       "      <td>118602.164062</td>\n",
       "      <td>119033.101562</td>\n",
       "      <td>6064922624</td>\n",
       "    </tr>\n",
       "    <tr>\n",
       "      <th>2025-07-21 10:00:00+00:00</th>\n",
       "      <td>118615.078125</td>\n",
       "      <td>118790.968750</td>\n",
       "      <td>118380.484375</td>\n",
       "      <td>118728.140625</td>\n",
       "      <td>7654854656</td>\n",
       "    </tr>\n",
       "    <tr>\n",
       "      <th>2025-07-21 11:00:00+00:00</th>\n",
       "      <td>118191.421875</td>\n",
       "      <td>118757.000000</td>\n",
       "      <td>118191.421875</td>\n",
       "      <td>118616.757812</td>\n",
       "      <td>13802106880</td>\n",
       "    </tr>\n",
       "    <tr>\n",
       "      <th>2025-07-21 12:00:00+00:00</th>\n",
       "      <td>118027.523438</td>\n",
       "      <td>118198.078125</td>\n",
       "      <td>118027.523438</td>\n",
       "      <td>118198.078125</td>\n",
       "      <td>17379328</td>\n",
       "    </tr>\n",
       "  </tbody>\n",
       "</table>\n",
       "</div>"
      ],
      "text/plain": [
       "Price                              Close           High            Low  \\\n",
       "Ticker                           BTC-USD        BTC-USD        BTC-USD   \n",
       "Datetime                                                                 \n",
       "2025-07-21 08:00:00+00:00  119021.601562  119507.898438  118929.921875   \n",
       "2025-07-21 09:00:00+00:00  118730.804688  119109.867188  118602.164062   \n",
       "2025-07-21 10:00:00+00:00  118615.078125  118790.968750  118380.484375   \n",
       "2025-07-21 11:00:00+00:00  118191.421875  118757.000000  118191.421875   \n",
       "2025-07-21 12:00:00+00:00  118027.523438  118198.078125  118027.523438   \n",
       "\n",
       "Price                               Open       Volume  \n",
       "Ticker                           BTC-USD      BTC-USD  \n",
       "Datetime                                               \n",
       "2025-07-21 08:00:00+00:00  119362.093750   8545181696  \n",
       "2025-07-21 09:00:00+00:00  119033.101562   6064922624  \n",
       "2025-07-21 10:00:00+00:00  118728.140625   7654854656  \n",
       "2025-07-21 11:00:00+00:00  118616.757812  13802106880  \n",
       "2025-07-21 12:00:00+00:00  118198.078125     17379328  "
      ]
     },
     "execution_count": 20,
     "metadata": {},
     "output_type": "execute_result"
    }
   ],
   "source": [
    "df.tail()"
   ]
  },
  {
   "cell_type": "code",
   "execution_count": 8,
   "id": "fba2a9ff-76db-465d-8523-70ca34d96de4",
   "metadata": {},
   "outputs": [],
   "source": [
    "## Save the downloaded data into a .csv file\n",
    "# df.to_csv(r'C:\\Users\\ADMIN\\Documents\\AI_Crypto\\BTC_Prediction_Training\\data\\btc.csv')"
   ]
  },
  {
   "cell_type": "code",
   "execution_count": null,
   "id": "47f4704b-e52d-4f21-a532-9baa31e6886e",
   "metadata": {},
   "outputs": [],
   "source": []
  }
 ],
 "metadata": {
  "kernelspec": {
   "display_name": "Python 3 (ipykernel)",
   "language": "python",
   "name": "python3"
  },
  "language_info": {
   "codemirror_mode": {
    "name": "ipython",
    "version": 3
   },
   "file_extension": ".py",
   "mimetype": "text/x-python",
   "name": "python",
   "nbconvert_exporter": "python",
   "pygments_lexer": "ipython3",
   "version": "3.12.9"
  }
 },
 "nbformat": 4,
 "nbformat_minor": 5
}
